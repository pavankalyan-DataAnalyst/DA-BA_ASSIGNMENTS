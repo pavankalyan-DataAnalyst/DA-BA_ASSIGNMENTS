{
 "cells": [
  {
   "cell_type": "markdown",
   "metadata": {
    "id": "v_5a6dEGYukp"
   },
   "source": [
    "# <center> Numpy Basics </center>"
   ]
  },
  {
   "cell_type": "code",
   "execution_count": 1,
   "metadata": {
    "id": "NnhU92SsYukv"
   },
   "outputs": [],
   "source": [
    "#import numpy module with alias np\n",
    "import numpy as np\n"
   ]
  },
  {
   "cell_type": "markdown",
   "metadata": {
    "id": "onEY9HMeYuk0"
   },
   "source": [
    "We can create a NumPy ndarray object by using the array() function.\n",
    "To create an ndarray, we can pass a list, tuple or any array-like object into the array() method, and it will be converted into an ndarray:\n"
   ]
  },
  {
   "cell_type": "code",
   "execution_count": 3,
   "metadata": {
    "id": "BCdPh0rqYuk0"
   },
   "outputs": [],
   "source": [
    "# Define a numpy array passing a list with  1,2 and 3 as elements in it\n",
    "my_list = [1, 2, 3, 4, 5]\n",
    "my_array = np.array(my_list)\n"
   ]
  },
  {
   "cell_type": "code",
   "execution_count": 4,
   "metadata": {
    "id": "up-97mFyYuk1"
   },
   "outputs": [
    {
     "name": "stdout",
     "output_type": "stream",
     "text": [
      "[1 2 3 4 5]\n"
     ]
    }
   ],
   "source": [
    "# print output\n",
    "print(my_array)\n"
   ]
  },
  {
   "cell_type": "markdown",
   "metadata": {
    "id": "I5wC2n70Yuk2"
   },
   "source": [
    "## Dimensions in Arrays\n",
    "\n",
    "Create arrays of different dimentions.\n",
    "\n",
    "a=A numpy array with one single integer 10\n",
    "\n",
    "b=A numpy array passing a list having a list= [1,2,3]\n",
    "\n",
    "c=A numpy array passing nested list having [[1, 2, 3], [4, 5, 6]] as elements\n",
    "\n",
    "d=A numpy array passing nested list having [[[1, 2, 3], [4, 5, 6]], [[1, 2, 3], [4, 5, 6]]] as elements"
   ]
  },
  {
   "cell_type": "code",
   "execution_count": 6,
   "metadata": {
    "id": "75VeuGacYuk3"
   },
   "outputs": [
    {
     "name": "stdout",
     "output_type": "stream",
     "text": [
      "Array a:\n",
      " 10\n",
      "Shape of a: ()\n",
      "\n",
      "Array b:\n",
      " [1 2 3]\n",
      "Shape of b: (3,)\n",
      "\n",
      "Array c:\n",
      " [[1 2 3]\n",
      " [4 5 6]]\n",
      "Shape of c: (2, 3)\n",
      "\n",
      "Array d:\n",
      " [[[1 2 3]\n",
      "  [4 5 6]]\n",
      "\n",
      " [[1 2 3]\n",
      "  [4 5 6]]]\n",
      "Shape of d: (2, 2, 3)\n"
     ]
    }
   ],
   "source": [
    "#define a,b,c and d as instructed above\n",
    "\n",
    "a = np.array(10)\n",
    "print(\"Array a:\\n\", a)\n",
    "print(\"Shape of a:\", a.shape)\n",
    "\n",
    "b = np.array([1, 2, 3])\n",
    "print(\"\\nArray b:\\n\", b)\n",
    "print(\"Shape of b:\", b.shape)\n",
    "\n",
    "c = np.array([[1, 2, 3], [4, 5, 6]])\n",
    "print(\"\\nArray c:\\n\", c)\n",
    "print(\"Shape of c:\", c.shape)\n",
    "\n",
    "d = np.array([[[1, 2, 3], [4, 5, 6]], [[1, 2, 3], [4, 5, 6]]])\n",
    "print(\"\\nArray d:\\n\", d)\n",
    "print(\"Shape of d:\", d.shape)"
   ]
  },
  {
   "cell_type": "markdown",
   "metadata": {
    "id": "qtUQhJgsYuk5"
   },
   "source": [
    "Are you ready to check its dimention? Use ndim attribute on each variable to check its dimention"
   ]
  },
  {
   "cell_type": "code",
   "execution_count": 7,
   "metadata": {
    "id": "WqRlO_elYuk6"
   },
   "outputs": [
    {
     "name": "stdout",
     "output_type": "stream",
     "text": [
      "Dimension of array a: 0\n",
      "Dimension of array b: 1\n",
      "Dimension of array c: 2\n",
      "Dimension of array d: 3\n"
     ]
    }
   ],
   "source": [
    "#print dimentions of a,b, c and d\n",
    "print(\"Dimension of array a:\", a.ndim)\n",
    "print(\"Dimension of array b:\", b.ndim)\n",
    "print(\"Dimension of array c:\", c.ndim)\n",
    "print(\"Dimension of array d:\", d.ndim)"
   ]
  },
  {
   "cell_type": "markdown",
   "metadata": {
    "id": "GdfDcthEYuk7"
   },
   "source": [
    "Hey hey. Did you see! you have created 0-D,1-DeprecationWarning, 2-D and 3-D arrays.\n",
    "\n",
    "Lets print there shape as well. You can check shape using shape attribute\n",
    "\n"
   ]
  },
  {
   "cell_type": "code",
   "execution_count": 8,
   "metadata": {
    "id": "Dbo7BMcNYuk8"
   },
   "outputs": [
    {
     "name": "stdout",
     "output_type": "stream",
     "text": [
      "Shape of array a: ()\n",
      "Shape of array b: (3,)\n",
      "Shape of array c: (2, 3)\n",
      "Shape of array d: (2, 2, 3)\n"
     ]
    }
   ],
   "source": [
    "# print shape of each a,b ,c and d\n",
    "\n",
    "print(\"Shape of array a:\", a.shape)\n",
    "print(\"Shape of array b:\", b.shape)\n",
    "print(\"Shape of array c:\", c.shape)\n",
    "print(\"Shape of array d:\", d.shape)"
   ]
  },
  {
   "cell_type": "markdown",
   "metadata": {
    "id": "zznIHO2BYuk8"
   },
   "source": [
    "Lets check data type passed in our array. To check data type you can use dtype attribute"
   ]
  },
  {
   "cell_type": "code",
   "execution_count": 9,
   "metadata": {
    "id": "IqR87PE-Yuk9"
   },
   "outputs": [
    {
     "name": "stdout",
     "output_type": "stream",
     "text": [
      "Data type of array a: int32\n",
      "Data type of array b: int32\n",
      "Data type of array c: int32\n",
      "Data type of array d: int32\n"
     ]
    }
   ],
   "source": [
    "# print data type of c and d\n",
    "print(\"Data type of array a:\", a.dtype)\n",
    "print(\"Data type of array b:\", b.dtype)\n",
    "print(\"Data type of array c:\", c.dtype)\n",
    "print(\"Data type of array d:\", d.dtype)"
   ]
  },
  {
   "cell_type": "markdown",
   "metadata": {
    "id": "bvZI9gIfYuk9"
   },
   "source": [
    "Above output mean our array is having int type elements in it."
   ]
  },
  {
   "cell_type": "markdown",
   "metadata": {
    "id": "JTIMcpHZYuk9"
   },
   "source": [
    "Lets check the type of our variable. To check type of any numpy variable use type() function "
   ]
  },
  {
   "cell_type": "code",
   "execution_count": 10,
   "metadata": {
    "id": "4XscrKR9Yuk9"
   },
   "outputs": [
    {
     "name": "stdout",
     "output_type": "stream",
     "text": [
      "Type of variable a: <class 'numpy.ndarray'>\n",
      "Type of variable b: <class 'numpy.ndarray'>\n",
      "Type of variable c: <class 'numpy.ndarray'>\n",
      "Type of variable d: <class 'numpy.ndarray'>\n"
     ]
    }
   ],
   "source": [
    "#print type of a and b variable\n",
    "print(\"Type of variable a:\", type(a))\n",
    "print(\"Type of variable b:\", type(b))\n",
    "print(\"Type of variable c:\", type(c))\n",
    "print(\"Type of variable d:\", type(d))"
   ]
  },
  {
   "cell_type": "code",
   "execution_count": 11,
   "metadata": {
    "id": "cmEidey1Yuk9"
   },
   "outputs": [
    {
     "data": {
      "text/plain": [
       "3"
      ]
     },
     "execution_count": 11,
     "metadata": {},
     "output_type": "execute_result"
    }
   ],
   "source": [
    "# Lets check length of array b, using len() function\n",
    "len(b)"
   ]
  },
  {
   "cell_type": "markdown",
   "metadata": {
    "id": "8k-sX7zmYuk-"
   },
   "source": [
    "Bravo!You have Defined ndarray i.e numpy array in variable a nd b. Also you have successfully learned how to create numpy. "
   ]
  },
  {
   "cell_type": "markdown",
   "metadata": {
    "id": "bl8PwahHYuk-"
   },
   "source": [
    "Create two list l1 and l2 where, l1=[10,20,30] and l2=[40,50,60]\n",
    "Also define two numpy arrays l3,l4 where l3 has l1 as element and l4 has l2 as element\n"
   ]
  },
  {
   "cell_type": "code",
   "execution_count": 12,
   "metadata": {
    "id": "-cZT6aZlYuk-"
   },
   "outputs": [
    {
     "name": "stdout",
     "output_type": "stream",
     "text": [
      "NumPy array l3: [10 20 30]\n",
      "NumPy array l4: [40 50 60]\n"
     ]
    }
   ],
   "source": [
    "# Define l1,l2,l3 and l4 as stated above.\n",
    "l1 = [10, 20, 30]\n",
    "l2 = [40, 50, 60]\n",
    "l3 = np.array(l1)\n",
    "l4 = np.array(l2)\n",
    "print(\"NumPy array l3:\", l3)\n",
    "print(\"NumPy array l4:\", l4)\n"
   ]
  },
  {
   "cell_type": "markdown",
   "metadata": {
    "id": "9muN0ZR5Yuk-"
   },
   "source": [
    "Lets multiply each elements of l1 with corresponding elements of l2\n",
    "\n",
    "Here use list comprehention to do so. Lets see how much you remember your work in other assignments.\n",
    "\n",
    "Note: use %timeit as prefix before your line of code inorder to calculate total time taken to run that line<br>\n",
    "eg. %timeit my_code"
   ]
  },
  {
   "cell_type": "code",
   "execution_count": 18,
   "metadata": {
    "id": "Gt0o_ZSCYuk_"
   },
   "outputs": [
    {
     "name": "stdout",
     "output_type": "stream",
     "text": [
      "791 ns ± 45 ns per loop (mean ± std. dev. of 7 runs, 1,000,000 loops each)\n",
      "Result using list comprehension: [400, 1000, 1800]\n"
     ]
    }
   ],
   "source": [
    "#code here as instructed above\n",
    "%timeit result = [x * y for x, y in zip(l1, l2)]\n",
    "result = [x * y for x, y in zip(l1, l2)]\n",
    "print(\"Result using list comprehension:\", result)"
   ]
  },
  {
   "cell_type": "markdown",
   "metadata": {
    "id": "xT45pl-RYuk_"
   },
   "source": [
    "Lets mulptiply l3 and l4\n",
    "\n",
    "Note: use %timeit as prefix before your line of code inorder to calculate total time taken to run that line"
   ]
  },
  {
   "cell_type": "code",
   "execution_count": 20,
   "metadata": {
    "id": "SceA6IrwYuk_"
   },
   "outputs": [
    {
     "name": "stdout",
     "output_type": "stream",
     "text": [
      "2.08 µs ± 101 ns per loop (mean ± std. dev. of 7 runs, 100,000 loops each)\n",
      "Result using list comprehension: [400, 1000, 1800]\n"
     ]
    }
   ],
   "source": [
    "%timeit res = [x * y for x, y in zip(l3, l4)]\n",
    "res = [x * y for x, y in zip(l1, l2)]\n",
    "print(\"Result using list comprehension:\", res)"
   ]
  },
  {
   "cell_type": "markdown",
   "metadata": {
    "id": "CJrqooYWYuk_"
   },
   "source": [
    "Don't worry if still your one line of code is running. Its because your system is calculating total time taken to run your code.\n",
    "\n",
    "Did you notice buddy! time taken to multiply two lists takes more time than multiplyimg two numpy array.\n",
    "Hence proved that numpy arrays are faster than lists.\n",
    "\n",
    "**Fun Fact time!:**\n",
    "\n",
    "You know in many data science interviews it is asked that what is the difference between list and array.<br>\n"
   ]
  },
  {
   "cell_type": "code",
   "execution_count": 21,
   "metadata": {
    "id": "BnwTOtdDYulA"
   },
   "outputs": [
    {
     "name": "stdout",
     "output_type": "stream",
     "text": [
      "NumPy array created using arange: [ 1  2  3  4  5  6  7  8  9 10]\n"
     ]
    }
   ],
   "source": [
    "#Create a numpy array using arange with 1 and 11 as parameter in it\n",
    "arr = np.arange(1, 11)\n",
    "print(\"NumPy array created using arange:\", arr)"
   ]
  },
  {
   "cell_type": "markdown",
   "metadata": {
    "id": "QiuRfP4OYulA"
   },
   "source": [
    "This means using arrange we get evenly spaced values within a given interval. Interval? Yes you can mention interval as well as third parameter in it."
   ]
  },
  {
   "cell_type": "code",
   "execution_count": 22,
   "metadata": {
    "id": "TDdTXBZcYulA"
   },
   "outputs": [
    {
     "name": "stdout",
     "output_type": "stream",
     "text": [
      "NumPy array created using arange: [1 3 5 7 9]\n"
     ]
    }
   ],
   "source": [
    "# Create an array using arange passing 1,11 and 2 as parameter in iter\n",
    "arr = np.arange(1, 11, 2)\n",
    "print(\"NumPy array created using arange:\", arr)"
   ]
  },
  {
   "cell_type": "code",
   "execution_count": 23,
   "metadata": {
    "id": "IFYEePpeYulA"
   },
   "outputs": [
    {
     "name": "stdout",
     "output_type": "stream",
     "text": [
      "NumPy array created using eye function:\n",
      "[[1. 0. 0.]\n",
      " [0. 1. 0.]\n",
      " [0. 0. 1.]]\n"
     ]
    }
   ],
   "source": [
    "# create numpy array using eye function with 3 as passed parameter\n",
    "arr = np.eye(3)\n",
    "print(\"NumPy array created using eye function:\")\n",
    "print(arr)\n"
   ]
  },
  {
   "cell_type": "code",
   "execution_count": 24,
   "metadata": {
    "id": "rXpUyqTYYulD"
   },
   "outputs": [
    {
     "name": "stdout",
     "output_type": "stream",
     "text": [
      "NumPy array x with numbers between 1 to 16:\n",
      "[ 1  2  3  4  5  6  7  8  9 10 11 12 13 14 15 16]\n"
     ]
    }
   ],
   "source": [
    "# Using arange() to generate numpy array x with numbers between 1 to 16\n",
    "x = np.arange(1, 17)\n",
    "print(\"NumPy array x with numbers between 1 to 16:\")\n",
    "print(x)\n"
   ]
  },
  {
   "cell_type": "code",
   "execution_count": 25,
   "metadata": {
    "id": "JkQG8RyFYulE"
   },
   "outputs": [
    {
     "name": "stdout",
     "output_type": "stream",
     "text": [
      "Reshaped array with 2 rows and 8 columns:\n",
      "[[ 1  2  3  4  5  6  7  8]\n",
      " [ 9 10 11 12 13 14 15 16]]\n"
     ]
    }
   ],
   "source": [
    "# Reshape x with 2 rows and 8 columns\n",
    "x_reshaped = x.reshape(2, 8)\n",
    "print(\"Reshaped array with 2 rows and 8 columns:\")\n",
    "print(x_reshaped)\n"
   ]
  },
  {
   "cell_type": "markdown",
   "metadata": {
    "id": "Eu-DgBCRYulE"
   },
   "source": [
    "As you can see above that our x changed into 2D matrix\n",
    "\n",
    "2. Reshaping 1-D to 3-D array\n"
   ]
  },
  {
   "cell_type": "code",
   "execution_count": 26,
   "metadata": {
    "id": "Ue760dxYYulE"
   },
   "outputs": [
    {
     "name": "stdout",
     "output_type": "stream",
     "text": [
      "Reshaped array with 2 arrays, each containing 4 arrays, each with 2 elements:\n",
      "[[[ 1  2]\n",
      "  [ 3  4]\n",
      "  [ 5  6]\n",
      "  [ 7  8]]\n",
      "\n",
      " [[ 9 10]\n",
      "  [11 12]\n",
      "  [13 14]\n",
      "  [15 16]]]\n"
     ]
    }
   ],
   "source": [
    "# reshape x with dimension that will have 2 arrays that contains 4 arrays, each with 2 elements:\n",
    "x_reshaped = x.reshape(2, 4, 2)\n",
    "print(\"Reshaped array with 2 arrays, each containing 4 arrays, each with 2 elements:\")\n",
    "print(x_reshaped)\n"
   ]
  },
  {
   "cell_type": "code",
   "execution_count": 27,
   "metadata": {
    "id": "xlfI-eC2YulE"
   },
   "outputs": [
    {
     "name": "stdout",
     "output_type": "stream",
     "text": [
      "Reshaped array with shape 4*4:\n",
      "[[ 1  2  3  4]\n",
      " [ 5  6  7  8]\n",
      " [ 9 10 11 12]\n",
      " [13 14 15 16]]\n"
     ]
    }
   ],
   "source": [
    "# Use unknown dimention to reshape x into 2-D numpy array with shape 4*4\n",
    "x_reshaped = x.reshape(4, -1)\n",
    "print(\"Reshaped array with shape 4*4:\")\n",
    "print(x_reshaped)\n",
    "\n",
    "\n"
   ]
  },
  {
   "cell_type": "code",
   "execution_count": 28,
   "metadata": {
    "id": "NDRDRGkUYulE"
   },
   "outputs": [
    {
     "name": "stdout",
     "output_type": "stream",
     "text": [
      "Reshaped array y with 3-D structure:\n",
      "[[[ 1  2]\n",
      "  [ 3  4]\n",
      "  [ 5  6]\n",
      "  [ 7  8]]\n",
      "\n",
      " [[ 9 10]\n",
      "  [11 12]\n",
      "  [13 14]\n",
      "  [15 16]]]\n"
     ]
    }
   ],
   "source": [
    "# Use unknown dimention to  reshape x into 3-D numpy array with 2 arrays that contains 4 arrays\n",
    "y = x.reshape(2, 4, -1)\n",
    "print(\"Reshaped array y with 3-D structure:\")\n",
    "print(y)\n"
   ]
  },
  {
   "cell_type": "code",
   "execution_count": 29,
   "metadata": {
    "id": "iHuEimtTYulF"
   },
   "outputs": [
    {
     "name": "stdout",
     "output_type": "stream",
     "text": [
      "Flattened array y_flattened:\n",
      "[ 1  2  3  4  5  6  7  8  9 10 11 12 13 14 15 16]\n"
     ]
    }
   ],
   "source": [
    "# Flattening y\n",
    "y_flattened = y.flatten()\n",
    "print(\"Flattened array y_flattened:\")\n",
    "print(y_flattened)\n"
   ]
  },
  {
   "cell_type": "code",
   "execution_count": 30,
   "metadata": {
    "id": "liRM5zN0YulF"
   },
   "outputs": [
    {
     "name": "stdout",
     "output_type": "stream",
     "text": [
      "Array a with all even numbers between 1 to 17:\n",
      "[ 2  4  6  8 10 12 14 16]\n"
     ]
    }
   ],
   "source": [
    "# Create an array a with all even numbers between 1 to 17\n",
    "a = np.arange(2, 18, 2)\n",
    "print(\"Array a with all even numbers between 1 to 17:\")\n",
    "print(a)\n",
    "\n"
   ]
  },
  {
   "cell_type": "code",
   "execution_count": 31,
   "metadata": {
    "id": "GysmjjOQYulF"
   },
   "outputs": [
    {
     "name": "stdout",
     "output_type": "stream",
     "text": [
      "Third element in array a: 6\n"
     ]
    }
   ],
   "source": [
    "# Get third element in array a\n",
    "third_element = a[2]\n",
    "print(\"Third element in array a:\", third_element)\n"
   ]
  },
  {
   "cell_type": "code",
   "execution_count": 32,
   "metadata": {
    "id": "QJDw7E2VYulF"
   },
   "outputs": [
    {
     "name": "stdout",
     "output_type": "stream",
     "text": [
      "3rd element in array a: 6\n",
      "5th element in array a: 10\n",
      "7th element in array a: 14\n"
     ]
    }
   ],
   "source": [
    "#Print 3rd, 5th, and 7th element in array a\n",
    "print(\"3rd element in array a:\", a[2])\n",
    "print(\"5th element in array a:\", a[4])\n",
    "print(\"7th element in array a:\", a[6])"
   ]
  },
  {
   "cell_type": "markdown",
   "metadata": {
    "id": "6FauyJCQYulF"
   },
   "source": [
    "Lets check the same for 2 D array"
   ]
  },
  {
   "cell_type": "code",
   "execution_count": 33,
   "metadata": {
    "id": "yomRzY6aYulF"
   },
   "outputs": [
    {
     "name": "stdout",
     "output_type": "stream",
     "text": [
      "2-D array a:\n",
      "[[1 2 3]\n",
      " [4 5 6]\n",
      " [7 8 9]]\n"
     ]
    }
   ],
   "source": [
    "# Define an array 2-D a with [[1,2,3],[4,5,6],[7,8,9]] as its elements.\n",
    "a = np.array([[1, 2, 3],\n",
    "              [4, 5, 6],\n",
    "              [7, 8, 9]])\n",
    "print(\"2-D array a:\")\n",
    "print(a)\n"
   ]
  },
  {
   "cell_type": "code",
   "execution_count": 34,
   "metadata": {
    "id": "VTGpLidrYulF"
   },
   "outputs": [
    {
     "name": "stdout",
     "output_type": "stream",
     "text": [
      "3rd element from the 3rd row of array a: 9\n"
     ]
    }
   ],
   "source": [
    "# print the 3rd element from the 3rd row of a\n",
    "print(\"3rd element from the 3rd row of array a:\", a[2, 2])"
   ]
  },
  {
   "cell_type": "markdown",
   "metadata": {
    "id": "-fPw_4ZBYulF"
   },
   "source": [
    "Well done!\n",
    "\n",
    "Now lets check indexing for 3 D array "
   ]
  },
  {
   "cell_type": "code",
   "execution_count": 35,
   "metadata": {
    "id": "VISPaw3PYulG"
   },
   "outputs": [
    {
     "name": "stdout",
     "output_type": "stream",
     "text": [
      "Array b:\n",
      "[[[ 1  2  3]\n",
      "  [ 4  5  6]]\n",
      "\n",
      " [[ 7  8  9]\n",
      "  [10 11 12]]]\n"
     ]
    }
   ],
   "source": [
    "# Define an array b again with [[[1, 2, 3], [4, 5, 6]], [[7, 8, 9], [10, 11, 12]]] as its elements.\n",
    "b = np.array([[[1, 2, 3], [4, 5, 6]],\n",
    "              [[7, 8, 9], [10, 11, 12]]])\n",
    "print(\"Array b:\")\n",
    "print(b)\n"
   ]
  },
  {
   "cell_type": "code",
   "execution_count": 36,
   "metadata": {
    "id": "UrFj656mYulG"
   },
   "outputs": [
    {
     "name": "stdout",
     "output_type": "stream",
     "text": [
      "3rd element from the 2nd list (1st list in nested list passed) in array b: 9\n"
     ]
    }
   ],
   "source": [
    "# Print 3rd element from 2nd list which is 1st list in nested list passed. Confusing right? 'a' have nested array.Understand the braket differences.\n",
    "print(\"3rd element from the 2nd list (1st list in nested list passed) in array b:\", b[1, 0, 2])"
   ]
  },
  {
   "cell_type": "code",
   "execution_count": 37,
   "metadata": {
    "id": "9ZadW42fYulG"
   },
   "outputs": [
    {
     "name": "stdout",
     "output_type": "stream",
     "text": [
      "1D array arr: [1 2 3 4 5]\n"
     ]
    }
   ],
   "source": [
    "# Create 1D array\n",
    "arr = np.array([1, 2, 3, 4, 5])\n",
    "print(\"1D array arr:\", arr)\n"
   ]
  },
  {
   "cell_type": "code",
   "execution_count": 38,
   "metadata": {
    "id": "fm2dtL6EYulG"
   },
   "outputs": [
    {
     "name": "stdout",
     "output_type": "stream",
     "text": [
      "Sliced array: [1 2 3 4 5]\n"
     ]
    }
   ],
   "source": [
    "# Slice elements from 1st to 5th element from the following array:\n",
    "sliced_arr = arr[0:5]\n",
    "print(\"Sliced array:\", sliced_arr)"
   ]
  },
  {
   "cell_type": "markdown",
   "metadata": {
    "id": "ghqluYgMYulG"
   },
   "source": [
    "Note: The result includes the start index, but excludes the end index.\n",
    "\n"
   ]
  },
  {
   "cell_type": "code",
   "execution_count": 41,
   "metadata": {
    "id": "g4uVBo1oYulH"
   },
   "outputs": [
    {
     "name": "stdout",
     "output_type": "stream",
     "text": [
      "Sliced array from index 5 to the end: []\n"
     ]
    }
   ],
   "source": [
    "# Slice elements from index 5 to the end of the array:\n",
    "sliced_arr = arr[5:]\n",
    "print(\"Sliced array from index 5 to the end:\", sliced_arr)"
   ]
  },
  {
   "cell_type": "code",
   "execution_count": 42,
   "metadata": {
    "id": "1t4V3OSaYulH"
   },
   "outputs": [
    {
     "name": "stdout",
     "output_type": "stream",
     "text": [
      "Sliced array from the beginning to index 5 (not included): [1 2 3 4 5]\n"
     ]
    }
   ],
   "source": [
    "# Slice elements from the beginning to index 5 (not included):\n",
    "sliced_arr = arr[:5]\n",
    "print(\"Sliced array from the beginning to index 5 (not included):\", sliced_arr)"
   ]
  },
  {
   "cell_type": "markdown",
   "metadata": {
    "id": "_sk9yNamYulH"
   },
   "source": [
    "**STEP**\n",
    "\n",
    "Use the step value to determine the step of the slicing:"
   ]
  },
  {
   "cell_type": "code",
   "execution_count": 43,
   "metadata": {
    "id": "1OXANncfYulH"
   },
   "outputs": [
    {
     "name": "stdout",
     "output_type": "stream",
     "text": [
      "Every other element from index 1 to index 7: [2 4]\n"
     ]
    }
   ],
   "source": [
    "# Print every other element from index 1 to index 7:\n",
    "every_other = arr[1:8:2]\n",
    "print(\"Every other element from index 1 to index 7:\", every_other)"
   ]
  },
  {
   "cell_type": "markdown",
   "metadata": {
    "id": "mpk1-Nd2YulH"
   },
   "source": [
    "Did you see? using step you were able to get alternate elements within specified index numbers."
   ]
  },
  {
   "cell_type": "code",
   "execution_count": 44,
   "metadata": {
    "id": "HxPLcXudYulH"
   },
   "outputs": [
    {
     "name": "stdout",
     "output_type": "stream",
     "text": [
      "Every other element from the entire array arr: [1 3 5]\n"
     ]
    }
   ],
   "source": [
    "# Return every other element from the entire array arr:\n",
    "every_other = arr[::2]\n",
    "print(\"Every other element from the entire array arr:\", every_other)\n"
   ]
  },
  {
   "cell_type": "markdown",
   "metadata": {
    "id": "d3m3TAVKYulH"
   },
   "source": [
    "well done!\n",
    "\n",
    "Lets do some slicing on 2-D array also. We already have 'a' as our 2-D array. We will use it here.\n",
    "\n",
    "**Array slicing in 2-D array.**"
   ]
  },
  {
   "cell_type": "code",
   "execution_count": 45,
   "metadata": {
    "id": "rPVvZ707YulI"
   },
   "outputs": [
    {
     "name": "stdout",
     "output_type": "stream",
     "text": [
      "Array a: [[1 2 3]\n",
      " [4 5 6]\n",
      " [7 8 9]]\n"
     ]
    }
   ],
   "source": [
    "# Print array a\n",
    "print(\"Array a:\", a)"
   ]
  },
  {
   "cell_type": "code",
   "execution_count": 46,
   "metadata": {
    "id": "uGHClMHiYulI"
   },
   "outputs": [
    {
     "name": "stdout",
     "output_type": "stream",
     "text": [
      "Sliced elements from index 1 to index 5 (not included) from the third element onward in array 'a':\n",
      "[[8 9]]\n"
     ]
    }
   ],
   "source": [
    "# From the third element, slice elements from index 1 to index 5 (not included) from array 'a'\n",
    "sliced_elements = a[2:, 1:5]\n",
    "print(\"Sliced elements from index 1 to index 5 (not included) from the third element onward in array 'a':\")\n",
    "print(sliced_elements)"
   ]
  },
  {
   "cell_type": "code",
   "execution_count": 47,
   "metadata": {
    "id": "mApmbts7YulI"
   },
   "outputs": [
    {
     "name": "stdout",
     "output_type": "stream",
     "text": [
      "Index 2 from all elements in array 'a': [3 6 9]\n"
     ]
    }
   ],
   "source": [
    "# In array 'a' print index 2 from all the elements :\n",
    "print(\"Index 2 from all elements in array 'a':\", a[:, 2])\n"
   ]
  },
  {
   "cell_type": "code",
   "execution_count": 48,
   "metadata": {
    "id": "XupmT4oLYulI"
   },
   "outputs": [
    {
     "name": "stdout",
     "output_type": "stream",
     "text": [
      "Sliced elements from index 1 till the end from all elements in array 'a':\n",
      "[[2 3]\n",
      " [5 6]\n",
      " [8 9]]\n"
     ]
    }
   ],
   "source": [
    "# From all the elements in 'a', slice index 1 till end, this will return a 2-D array:\n",
    "sliced_elements = a[:, 1:]\n",
    "print(\"Sliced elements from index 1 till the end from all elements in array 'a':\")\n",
    "print(sliced_elements)\n"
   ]
  },
  {
   "cell_type": "markdown",
   "metadata": {
    "id": "3-YDc-LnYulI"
   },
   "source": [
    "Hurray! You have learned Slicing in Numpy array. Now you know to access any numpy array."
   ]
  },
  {
   "cell_type": "markdown",
   "metadata": {
    "id": "kCiQoJ7DYulI"
   },
   "source": [
    "## Numpy copy vs view"
   ]
  },
  {
   "cell_type": "code",
   "execution_count": 50,
   "metadata": {
    "id": "qMAPlnpnYulI"
   },
   "outputs": [],
   "source": [
    "x1 = np.array([1, 2, 3, 4, 5])"
   ]
  },
  {
   "cell_type": "code",
   "execution_count": 51,
   "metadata": {
    "id": "Fjjpvmw4YulI"
   },
   "outputs": [],
   "source": [
    "# assign x2 = x1\n",
    "x2 = x1.copy()"
   ]
  },
  {
   "cell_type": "code",
   "execution_count": 52,
   "metadata": {
    "id": "CZ8h9KxSYulI"
   },
   "outputs": [
    {
     "name": "stdout",
     "output_type": "stream",
     "text": [
      "Original array x1: [1 2 3 4 5]\n",
      "Modified copy x2: [1 2 3 4 5]\n"
     ]
    }
   ],
   "source": [
    "#print x1 and x2\n",
    "print(\"Original array x1:\", x1)\n",
    "print(\"Modified copy x2:\", x2)\n"
   ]
  },
  {
   "cell_type": "markdown",
   "metadata": {
    "id": "CAOn1lSVYulI"
   },
   "source": [
    "Ok now you have seen that both of them are same "
   ]
  },
  {
   "cell_type": "code",
   "execution_count": 54,
   "metadata": {
    "id": "H12TCKrSYulJ"
   },
   "outputs": [],
   "source": [
    "# change 1st element of x2 as 10\n",
    "x2[0] = 10"
   ]
  },
  {
   "cell_type": "code",
   "execution_count": 55,
   "metadata": {
    "id": "jO5qSqZVYulJ"
   },
   "outputs": [
    {
     "name": "stdout",
     "output_type": "stream",
     "text": [
      "Original array x1: [1 2 3 4 5]\n",
      "Modified copy x2: [10  2  3  4  5]\n"
     ]
    }
   ],
   "source": [
    "#Again print x1 and x2\n",
    "print(\"Original array x1:\", x1)\n",
    "print(\"Modified copy x2:\", x2)"
   ]
  },
  {
   "cell_type": "code",
   "execution_count": 56,
   "metadata": {
    "id": "wruaMhObYulJ"
   },
   "outputs": [
    {
     "name": "stdout",
     "output_type": "stream",
     "text": [
      "x2 is not a view of x1\n"
     ]
    }
   ],
   "source": [
    "# Check memory share between x1 and x2\n",
    "if x2.base is x1:\n",
    "    print(\"x2 is a view of x1\")\n",
    "else:\n",
    "    print(\"x2 is not a view of x1\")\n"
   ]
  },
  {
   "cell_type": "markdown",
   "metadata": {
    "id": "8FfiAWw_YulJ"
   },
   "source": [
    "Hey It's True they both share memory\n",
    "\n",
    "Shall we try **view()** function also likwise."
   ]
  },
  {
   "cell_type": "code",
   "execution_count": 57,
   "metadata": {
    "id": "ylweEJUtYulJ"
   },
   "outputs": [],
   "source": [
    "# Create a view of x1 and store it in x3.\n",
    "x3 = x1.view()"
   ]
  },
  {
   "cell_type": "code",
   "execution_count": 58,
   "metadata": {
    "id": "La-iF23VYulJ"
   },
   "outputs": [
    {
     "name": "stdout",
     "output_type": "stream",
     "text": [
      "x3 is a view of x1\n"
     ]
    }
   ],
   "source": [
    "# Again check memory share between x1 and x3\n",
    "if x3.base is x1:\n",
    "    print(\"x3 is a view of x1\")\n",
    "else:\n",
    "    print(\"x3 is not a view of x1\")"
   ]
  },
  {
   "cell_type": "markdown",
   "metadata": {
    "id": "vkE_1h-5YulJ"
   },
   "source": [
    "Woh! simple assignment is similar to view. That means \n",
    "The view does not own the data and any changes made to the view will affect the original array, and any changes made to the original array will affect the view.\n",
    "\n",
    "Don't agree? ok lets change x3 and see if original array i.e. x1 also changes"
   ]
  },
  {
   "cell_type": "code",
   "execution_count": 59,
   "metadata": {
    "id": "34UnXXvwYulJ"
   },
   "outputs": [
    {
     "name": "stdout",
     "output_type": "stream",
     "text": [
      "Modified x3: [100   2   3   4   5]\n"
     ]
    }
   ],
   "source": [
    "#Change 1st element of x3=100\n",
    "x3[0] = 100\n",
    "print(\"Modified x3:\", x3)\n"
   ]
  },
  {
   "cell_type": "code",
   "execution_count": 60,
   "metadata": {
    "id": "p64U7WsGYulJ"
   },
   "outputs": [
    {
     "name": "stdout",
     "output_type": "stream",
     "text": [
      "Original x1: [100   2   3   4   5]\n",
      "Modified x3: [100   2   3   4   5]\n"
     ]
    }
   ],
   "source": [
    "#print x1 and x3 to check if changes reflected in both\n",
    "print(\"Original x1:\", x1)\n",
    "print(\"Modified x3:\", x3)\n"
   ]
  },
  {
   "cell_type": "markdown",
   "metadata": {
    "id": "aPgZUErOYulK"
   },
   "source": [
    "Now its proved.\n",
    "\n",
    "Lets see how **Copy()** function works"
   ]
  },
  {
   "cell_type": "code",
   "execution_count": 61,
   "metadata": {
    "id": "AB_dXmMrYulK"
   },
   "outputs": [],
   "source": [
    "# Now create an array x4 which is copy of x1\n",
    "x4 = x1.copy()"
   ]
  },
  {
   "cell_type": "code",
   "execution_count": 62,
   "metadata": {
    "id": "8_Ub7cuZYulK"
   },
   "outputs": [],
   "source": [
    "# Change the last element of x4 as 900\n",
    "x4[-1] = 900"
   ]
  },
  {
   "cell_type": "code",
   "execution_count": 63,
   "metadata": {
    "id": "xEUDBraHYulK"
   },
   "outputs": [
    {
     "name": "stdout",
     "output_type": "stream",
     "text": [
      "Original x1: [100   2   3   4   5]\n",
      "Modified x4: [100   2   3   4 900]\n"
     ]
    }
   ],
   "source": [
    "# print both x1 and x4 to check if changes reflected in both\n",
    "print(\"Original x1:\", x1)\n",
    "print(\"Modified x4:\", x4)"
   ]
  },
  {
   "cell_type": "markdown",
   "metadata": {
    "id": "uMfFQMlNYulK"
   },
   "source": [
    "Hey! such an intresting output. You noticed buddy! your original array didn't get changed on change of its copy ie. x4.\n",
    "\n",
    "Still not convinced? Ok lets see if they both share memory or not"
   ]
  },
  {
   "cell_type": "code",
   "execution_count": 64,
   "metadata": {
    "id": "VZbJx19hYulK"
   },
   "outputs": [
    {
     "name": "stdout",
     "output_type": "stream",
     "text": [
      "x4 is a separate copy of x1 and does not share memory\n"
     ]
    }
   ],
   "source": [
    "#Check memory share between x1 and x4\n",
    "if x4.base is None:\n",
    "    print(\"x4 is a separate copy of x1 and does not share memory\")\n",
    "else:\n",
    "    print(\"x4 shares memory with another array\")\n"
   ]
  },
  {
   "cell_type": "markdown",
   "metadata": {
    "id": "1vgtMyk8YulM"
   },
   "source": [
    "**hstack vs vstack function**\n",
    "\n",
    "\n",
    "Stacking is same as concatenation, the only difference is that stacking is done along a new axis.\n",
    "\n",
    "NumPy provides a helper function: \n",
    "\n",
    "1. hstack() to stack along rows.\n",
    "2. vstack()  to stack along columns"
   ]
  },
  {
   "cell_type": "code",
   "execution_count": 65,
   "metadata": {
    "id": "8iXSmEsmYulM"
   },
   "outputs": [
    {
     "name": "stdout",
     "output_type": "stream",
     "text": [
      "Stacked array along columns:\n",
      "[[100 100]\n",
      " [  2   2]\n",
      " [  3   3]\n",
      " [  4   4]\n",
      " [  5 900]]\n"
     ]
    }
   ],
   "source": [
    "# stack x1 and x4 along columns.\n",
    "stacked_array = np.column_stack((x1, x4))\n",
    "print(\"Stacked array along columns:\")\n",
    "print(stacked_array)\n"
   ]
  },
  {
   "cell_type": "code",
   "execution_count": 66,
   "metadata": {
    "id": "VQpItcdCYulM"
   },
   "outputs": [
    {
     "name": "stdout",
     "output_type": "stream",
     "text": [
      "Stacked array along rows:\n",
      "[[100   2   3   4   5]\n",
      " [100   2   3   4 900]]\n"
     ]
    }
   ],
   "source": [
    "#stack x1 and x4 along rows\n",
    "stacked_array = np.vstack((x1, x4))\n",
    "print(\"Stacked array along rows:\")\n",
    "print(stacked_array)\n"
   ]
  },
  {
   "cell_type": "markdown",
   "metadata": {
    "id": "YJD_N7B_YulM"
   },
   "source": [
    "We hope now you saw the difference between them.\n",
    "\n",
    "Fun fact! you can even use concatenate() function to join 2 arrays along with the axis. If axis is not explicitly passed, it is taken as 0 ie. along column\n",
    "\n",
    "Lets try this function as well"
   ]
  },
  {
   "cell_type": "code",
   "execution_count": 67,
   "metadata": {
    "id": "P2SNMvTaYulM"
   },
   "outputs": [
    {
     "name": "stdout",
     "output_type": "stream",
     "text": [
      "Joined array along rows:\n",
      "[[ 1  2  3]\n",
      " [ 4  5  6]\n",
      " [ 7  8  9]\n",
      " [10 11 12]]\n"
     ]
    }
   ],
   "source": [
    "arr1 = np.array([[1, 2, 3],\n",
    "                 [4, 5, 6]])\n",
    "arr2 = np.array([[7, 8, 9],\n",
    "                 [10, 11, 12]])\n",
    "# Join arr1 and arr2 along rows using concatenate() function\n",
    "joined_array = np.concatenate((arr1, arr2), axis=0)\n",
    "print(\"Joined array along rows:\")\n",
    "print(joined_array)\n"
   ]
  },
  {
   "cell_type": "code",
   "execution_count": 68,
   "metadata": {
    "id": "dbf1xSfeYulN"
   },
   "outputs": [
    {
     "name": "stdout",
     "output_type": "stream",
     "text": [
      "Joined array along columns:\n",
      "[[ 1  2  3  7  8  9]\n",
      " [ 4  5  6 10 11 12]]\n"
     ]
    }
   ],
   "source": [
    "##join arr1 and arr2 along columns using concatenate() function\n",
    "joined_array = np.concatenate((arr1, arr2), axis=1)\n",
    "print(\"Joined array along columns:\")\n",
    "print(joined_array)\n"
   ]
  },
  {
   "cell_type": "markdown",
   "metadata": {
    "id": "WKy9Lu4vYulN"
   },
   "source": [
    "## Adding, Insert and delete Numpy array"
   ]
  },
  {
   "cell_type": "markdown",
   "metadata": {
    "id": "_W4bZ70AYulN"
   },
   "source": [
    "You can also add 2 arrays using append() function also. This function appends values to end of array\n",
    "\n",
    "Lets see how"
   ]
  },
  {
   "cell_type": "code",
   "execution_count": 69,
   "metadata": {
    "id": "yC1yIKfPYulN"
   },
   "outputs": [
    {
     "name": "stdout",
     "output_type": "stream",
     "text": [
      "Appended array:\n",
      "[[ 1  2  3]\n",
      " [ 4  5  6]\n",
      " [ 7  8  9]\n",
      " [10 11 12]]\n"
     ]
    }
   ],
   "source": [
    "# append arr2 to arr1\n",
    "appended_array = np.append(arr1, arr2, axis=0)\n",
    "print(\"Appended array:\")\n",
    "print(appended_array)"
   ]
  },
  {
   "cell_type": "markdown",
   "metadata": {
    "id": "Jb4EPxL4YulN"
   },
   "source": [
    "Lets use insert() function which Inserts values into array before specified index value"
   ]
  },
  {
   "cell_type": "code",
   "execution_count": 70,
   "metadata": {
    "id": "2pF_KctFYulN"
   },
   "outputs": [
    {
     "name": "stdout",
     "output_type": "stream",
     "text": [
      "Result array after insertion:\n",
      "[ 1  2  3  4 10 20 30  5]\n"
     ]
    }
   ],
   "source": [
    "# Inserts values into array x1 before index 4 with elements of x4\n",
    "x1 = np.array([1, 2, 3, 4, 5])\n",
    "x4 = np.array([10, 20, 30])\n",
    "\n",
    "\n",
    "result_array = np.insert(x1, 4, x4)\n",
    "print(\"Result array after insertion:\")\n",
    "print(result_array)\n"
   ]
  },
  {
   "cell_type": "markdown",
   "metadata": {
    "id": "uTDcvWAPYulN"
   },
   "source": [
    "You can see in above output we have inserted all the elements of x4 before index 4 in array x1."
   ]
  },
  {
   "cell_type": "code",
   "execution_count": 71,
   "metadata": {
    "id": "btEqORsVYulN"
   },
   "outputs": [
    {
     "name": "stdout",
     "output_type": "stream",
     "text": [
      "Updated array x2 after deleting the second element:\n",
      "[1 3 4 5]\n"
     ]
    }
   ],
   "source": [
    "# delete 2nd element from array x2\n",
    "x2 = np.array([1, 2, 3, 4, 5])\n",
    "x2 = np.delete(x2, 1)\n",
    "print(\"Updated array x2 after deleting the second element:\")\n",
    "print(x2)\n"
   ]
  },
  {
   "cell_type": "markdown",
   "metadata": {
    "id": "HcSC-kfxYulO"
   },
   "source": [
    "Did you see? 2 value is deleted from x2 which was at index position 2"
   ]
  },
  {
   "cell_type": "markdown",
   "metadata": {
    "id": "3XDGaMkZYulS"
   },
   "source": [
    "Good Job learner! "
   ]
  }
 ],
 "metadata": {
  "colab": {
   "provenance": []
  },
  "kernelspec": {
   "display_name": "Python 3 (ipykernel)",
   "language": "python",
   "name": "python3"
  },
  "language_info": {
   "codemirror_mode": {
    "name": "ipython",
    "version": 3
   },
   "file_extension": ".py",
   "mimetype": "text/x-python",
   "name": "python",
   "nbconvert_exporter": "python",
   "pygments_lexer": "ipython3",
   "version": "3.11.5"
  }
 },
 "nbformat": 4,
 "nbformat_minor": 1
}
