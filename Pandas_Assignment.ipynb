{
 "cells": [
  {
   "cell_type": "markdown",
   "id": "db042a8a",
   "metadata": {
    "id": "XHvoVqK5mYA-"
   },
   "source": [
    "# <center>Pandas Assignment</center>"
   ]
  },
  {
   "cell_type": "markdown",
   "id": "22c9d503",
   "metadata": {
    "id": "v9Qb2_aumYBF"
   },
   "source": [
    "Import pandas and numpy with their aliases"
   ]
  },
  {
   "cell_type": "code",
   "execution_count": 6,
   "id": "9c2e1455",
   "metadata": {
    "id": "ihFP1wXZmYBF"
   },
   "outputs": [],
   "source": [
    "import pandas as pd\n",
    "import numpy as np\n",
    "\n"
   ]
  },
  {
   "cell_type": "markdown",
   "id": "f83d83e2",
   "metadata": {
    "id": "0b8hUBhTmYBG"
   },
   "source": [
    "Create a variable a = pd.Series([ 100, 200, 300, 400])"
   ]
  },
  {
   "cell_type": "code",
   "execution_count": 7,
   "id": "1b0570a8",
   "metadata": {
    "id": "hzvzkbNYmYBH"
   },
   "outputs": [
    {
     "name": "stdout",
     "output_type": "stream",
     "text": [
      "0    100\n",
      "1    200\n",
      "2    300\n",
      "3    400\n",
      "dtype: int64\n"
     ]
    }
   ],
   "source": [
    "a = pd.Series([100, 200, 300, 400])\n",
    "print(a)"
   ]
  },
  {
   "cell_type": "markdown",
   "id": "117c65c6",
   "metadata": {
    "id": "BSyNFbitmYBH"
   },
   "source": [
    "Print a, and data type"
   ]
  },
  {
   "cell_type": "code",
   "execution_count": 8,
   "id": "a7e378cf",
   "metadata": {
    "id": "GMmFsjPamYBH",
    "outputId": "e21bf8f8-3d7a-4ec6-ea93-7885f9b0a648"
   },
   "outputs": [
    {
     "name": "stdout",
     "output_type": "stream",
     "text": [
      "0    100\n",
      "1    200\n",
      "2    300\n",
      "3    400\n",
      "dtype: int64\n",
      "\n",
      "Data type of Series 'a': <class 'pandas.core.series.Series'>\n"
     ]
    }
   ],
   "source": [
    "print(a)\n",
    "print(\"\\nData type of Series 'a':\", type(a))"
   ]
  },
  {
   "cell_type": "markdown",
   "id": "6a367d03",
   "metadata": {
    "id": "z0FryxOXmYBI"
   },
   "source": [
    "Using indexing access the element 300 from the series a."
   ]
  },
  {
   "cell_type": "code",
   "execution_count": 9,
   "id": "1b76cf66",
   "metadata": {
    "id": "wERTsh-4mYBJ",
    "outputId": "de60a58f-c084-4955-ab6e-b453f6280c98"
   },
   "outputs": [
    {
     "name": "stdout",
     "output_type": "stream",
     "text": [
      "Element 300 from the Series 'a': 300\n"
     ]
    }
   ],
   "source": [
    "element_300 = a[2]\n",
    "print(\"Element 300 from the Series 'a':\", element_300)\n"
   ]
  },
  {
   "cell_type": "markdown",
   "id": "9db8a76c",
   "metadata": {
    "id": "HHEKyOtemYBJ"
   },
   "source": [
    "What are the values of index for series a?"
   ]
  },
  {
   "cell_type": "code",
   "execution_count": 10,
   "id": "6b9a4770",
   "metadata": {
    "id": "uQOnSJQ4mYBJ",
    "outputId": "de695171-b817-4495-bf3b-be91ade7c7c4"
   },
   "outputs": [
    {
     "name": "stdout",
     "output_type": "stream",
     "text": [
      "Index values for Series 'a': RangeIndex(start=0, stop=4, step=1)\n"
     ]
    }
   ],
   "source": [
    "a = pd.Series([100, 200, 300, 400])\n",
    "print(\"Index values for Series 'a':\", a.index)"
   ]
  },
  {
   "cell_type": "markdown",
   "id": "72f5e87d",
   "metadata": {
    "id": "EuFjG74wmYBJ"
   },
   "source": [
    "Change the index to  ['c', 'a', 'b', 'd']"
   ]
  },
  {
   "cell_type": "code",
   "execution_count": 11,
   "id": "3826ad84",
   "metadata": {
    "id": "1ueAAFiJmYBK",
    "outputId": "cc9737be-1c56-4b92-febb-ad609f07e14a"
   },
   "outputs": [
    {
     "name": "stdout",
     "output_type": "stream",
     "text": [
      "Series 'a' with new index:\n",
      "c    100\n",
      "a    200\n",
      "b    300\n",
      "d    400\n",
      "dtype: int64\n"
     ]
    }
   ],
   "source": [
    "a.index = ['c', 'a', 'b', 'd']\n",
    "print(\"Series 'a' with new index:\")\n",
    "print(a)\n"
   ]
  },
  {
   "cell_type": "markdown",
   "id": "cf865e1b",
   "metadata": {
    "id": "ZdZLyRO7mYBK"
   },
   "source": [
    "Access the value in the series with index 'd'"
   ]
  },
  {
   "cell_type": "code",
   "execution_count": 12,
   "id": "dfb57771",
   "metadata": {
    "id": "oN1ce3GymYBK",
    "outputId": "cba39f6a-cd4d-4934-b5cf-49cafd4ddc31"
   },
   "outputs": [
    {
     "name": "stdout",
     "output_type": "stream",
     "text": [
      "Value in the Series with index 'd': 400\n"
     ]
    }
   ],
   "source": [
    "value_d = a['d']\n",
    "print(\"Value in the Series with index 'd':\", value_d)\n"
   ]
  },
  {
   "cell_type": "markdown",
   "id": "45dccbcd",
   "metadata": {
    "id": "eQSGwKtFmYBK"
   },
   "source": [
    "Sort the values wrt to the index and print it"
   ]
  },
  {
   "cell_type": "code",
   "execution_count": 13,
   "id": "e6823cb0",
   "metadata": {
    "id": "-arvricBmYBL",
    "outputId": "f1286103-c02c-4ee2-e25f-f8b0d8215198"
   },
   "outputs": [
    {
     "name": "stdout",
     "output_type": "stream",
     "text": [
      "Sorted Series 'a' with respect to the index:\n",
      "a    200\n",
      "b    300\n",
      "c    100\n",
      "d    400\n",
      "dtype: int64\n"
     ]
    }
   ],
   "source": [
    "sorted_a = a.sort_index()\n",
    "print(\"Sorted Series 'a' with respect to the index:\")\n",
    "print(sorted_a)\n",
    "\n",
    "\n"
   ]
  },
  {
   "cell_type": "markdown",
   "id": "c43225e7",
   "metadata": {
    "id": "g-fXVSK2mYBL"
   },
   "source": [
    "Create a new Pandas Series b having index as 'e', 'f', and 'g' and value 800,450,100 and print it"
   ]
  },
  {
   "cell_type": "code",
   "execution_count": 14,
   "id": "0014fab5",
   "metadata": {
    "id": "fAg_rI3hmYBL",
    "outputId": "0bf9ddea-64c2-402a-f129-cd640ffec5b2"
   },
   "outputs": [
    {
     "name": "stdout",
     "output_type": "stream",
     "text": [
      "e    800\n",
      "f    450\n",
      "g    100\n",
      "dtype: int64\n"
     ]
    }
   ],
   "source": [
    "b = pd.Series([800, 450, 100], index=['e', 'f', 'g'])\n",
    "\n",
    "# Printing the Series 'b'\n",
    "print(b)\n",
    "\n",
    "\n",
    "\n",
    "\n"
   ]
  },
  {
   "cell_type": "markdown",
   "id": "07c5dee2",
   "metadata": {
    "id": "jWhRRtF1mYBL"
   },
   "source": [
    "Append b series at the end of a series"
   ]
  },
  {
   "cell_type": "code",
   "execution_count": 15,
   "id": "1f3ba573",
   "metadata": {
    "id": "TBV8hkRXmYBL"
   },
   "outputs": [
    {
     "name": "stdout",
     "output_type": "stream",
     "text": [
      "Appended Series:\n",
      "c    100\n",
      "a    200\n",
      "b    300\n",
      "d    400\n",
      "e    800\n",
      "f    450\n",
      "g    100\n",
      "dtype: int64\n"
     ]
    }
   ],
   "source": [
    "a_appended = pd.concat([a, b])\n",
    "\n",
    "# Printing the appended Series\n",
    "print(\"Appended Series:\")\n",
    "print(a_appended)\n"
   ]
  },
  {
   "cell_type": "code",
   "execution_count": 16,
   "id": "dba009f3",
   "metadata": {
    "id": "Xfm5WgBYmYBM",
    "outputId": "45dbeb71-cdd2-46ac-8b76-947f9e4eab54"
   },
   "outputs": [
    {
     "name": "stdout",
     "output_type": "stream",
     "text": [
      "c    100\n",
      "a    200\n",
      "b    300\n",
      "d    400\n",
      "e    800\n",
      "f    450\n",
      "g    100\n",
      "dtype: int64\n"
     ]
    }
   ],
   "source": [
    "#print a again after appending b into it\n",
    "print(a_appended)\n",
    "\n",
    "\n"
   ]
  },
  {
   "cell_type": "markdown",
   "id": "083969d9",
   "metadata": {
    "id": "6lz_BR0umYBM"
   },
   "source": [
    "Sort the values in descending order of a and print the index of the sorted series"
   ]
  },
  {
   "cell_type": "code",
   "execution_count": 17,
   "id": "8c0de741",
   "metadata": {
    "id": "5srJV0y0mYBM"
   },
   "outputs": [
    {
     "name": "stdout",
     "output_type": "stream",
     "text": [
      "Index(['e', 'f', 'd', 'b', 'a', 'c', 'g'], dtype='object')\n"
     ]
    }
   ],
   "source": [
    "sorted_a_appended = a_appended.sort_values(ascending=False)\n",
    "\n",
    "# Print the index of the sorted series\n",
    "print(sorted_a_appended.index)\n"
   ]
  },
  {
   "cell_type": "markdown",
   "id": "1b71a2c4",
   "metadata": {
    "id": "OQ5gj4romYBM"
   },
   "source": [
    "## Pandas DataFrame"
   ]
  },
  {
   "cell_type": "markdown",
   "id": "e5eab7d4",
   "metadata": {
    "id": "tD7de_2amYBM"
   },
   "source": [
    "### Part 1"
   ]
  },
  {
   "cell_type": "markdown",
   "id": "cd2fdbf7",
   "metadata": {
    "id": "z_nAQa4BmYBN"
   },
   "source": [
    "Create a pandas dataframe df from the series 'a' that we used in the last section, print the dataframe"
   ]
  },
  {
   "cell_type": "code",
   "execution_count": 18,
   "id": "6ec2a121",
   "metadata": {
    "id": "ojD-B6FvmYBN",
    "outputId": "628c307e-fe67-471b-9ff6-e1167f0e9529",
    "scrolled": true
   },
   "outputs": [
    {
     "name": "stdout",
     "output_type": "stream",
     "text": [
      "DataFrame 'df' from Series 'a':\n",
      "   Values\n",
      "c     100\n",
      "a     200\n",
      "b     300\n",
      "d     400\n",
      "e     800\n",
      "f     450\n",
      "g     100\n"
     ]
    }
   ],
   "source": [
    "\n",
    "df = pd.DataFrame(a_appended, columns=['Values'])\n",
    "\n",
    "print(\"DataFrame 'df' from Series 'a':\")\n",
    "print(df)\n"
   ]
  },
  {
   "cell_type": "markdown",
   "id": "49c54cd4",
   "metadata": {
    "id": "yzrIH3irmYBN"
   },
   "source": [
    "What is the shape of the datafarme <br>\n",
    "(also, what does it imply?)"
   ]
  },
  {
   "cell_type": "code",
   "execution_count": 19,
   "id": "2701e799",
   "metadata": {
    "id": "aFo5tNrVmYBN",
    "outputId": "f3145f5e-75b2-4bf0-87f3-07c405845ad4"
   },
   "outputs": [
    {
     "name": "stdout",
     "output_type": "stream",
     "text": [
      "Shape of the DataFrame 'df': (7, 1)\n"
     ]
    }
   ],
   "source": [
    "print(\"Shape of the DataFrame 'df':\", df.shape)"
   ]
  },
  {
   "cell_type": "markdown",
   "id": "93fb38aa",
   "metadata": {
    "id": "Dl0Hr0LSmYBO"
   },
   "source": [
    "Hey! remember shape (7,1) implies dataframe has 7 rows and 1 column. "
   ]
  },
  {
   "cell_type": "markdown",
   "id": "966501be",
   "metadata": {
    "id": "hwcaXl43mYBO"
   },
   "source": [
    "What is the index of the dataframe, is it same as the series 'a' "
   ]
  },
  {
   "cell_type": "code",
   "execution_count": 20,
   "id": "536145b2",
   "metadata": {
    "id": "1-gMxT-emYBO",
    "outputId": "25df79a2-b1c6-45af-b179-53b79fe23fcd"
   },
   "outputs": [
    {
     "name": "stdout",
     "output_type": "stream",
     "text": [
      "Index of the DataFrame 'df': Index(['c', 'a', 'b', 'd', 'e', 'f', 'g'], dtype='object')\n"
     ]
    }
   ],
   "source": [
    "# yep its same as the series.\n",
    "print(\"Index of the DataFrame 'df':\", df.index)\n"
   ]
  },
  {
   "cell_type": "markdown",
   "id": "0ae73216",
   "metadata": {
    "id": "C5wadnBymYBO"
   },
   "source": [
    "print the head and tail of the dataframe. <br>\n",
    "Additional - (what does head and tali represent?)"
   ]
  },
  {
   "cell_type": "code",
   "execution_count": 21,
   "id": "d8a14888",
   "metadata": {
    "id": "U2vxYrPnmYBO",
    "outputId": "7f439669-2345-46f9-f46e-d134fb09bbd7"
   },
   "outputs": [
    {
     "name": "stdout",
     "output_type": "stream",
     "text": [
      "Head of the DataFrame 'df':\n",
      "   Values\n",
      "c     100\n",
      "a     200\n",
      "b     300\n",
      "d     400\n",
      "e     800\n"
     ]
    }
   ],
   "source": [
    "print(\"Head of the DataFrame 'df':\")\n",
    "print(df.head())"
   ]
  },
  {
   "cell_type": "code",
   "execution_count": 22,
   "id": "76c9b18e",
   "metadata": {
    "id": "nikOdGC_mYBO",
    "outputId": "2ab575b8-468b-4fbe-a6fa-80a607a83857"
   },
   "outputs": [
    {
     "name": "stdout",
     "output_type": "stream",
     "text": [
      "\n",
      "Tail of the DataFrame 'df':\n",
      "   Values\n",
      "b     300\n",
      "d     400\n",
      "e     800\n",
      "f     450\n",
      "g     100\n"
     ]
    }
   ],
   "source": [
    "print(\"\\nTail of the DataFrame 'df':\")\n",
    "print(df.tail())"
   ]
  },
  {
   "cell_type": "markdown",
   "id": "ceeecd5a",
   "metadata": {
    "id": "Ci2tiwbBmYBO"
   },
   "source": [
    "Rename the column of the dataframe as 'points'"
   ]
  },
  {
   "cell_type": "code",
   "execution_count": 23,
   "id": "5885870a",
   "metadata": {
    "id": "K3OsbVD3mYBP",
    "outputId": "f49057a3-e48a-4124-c1f9-3ccdf264dbf3"
   },
   "outputs": [
    {
     "name": "stdout",
     "output_type": "stream",
     "text": [
      "DataFrame 'df' with column 'points':\n",
      "   points\n",
      "c     100\n",
      "a     200\n",
      "b     300\n",
      "d     400\n",
      "e     800\n",
      "f     450\n",
      "g     100\n"
     ]
    }
   ],
   "source": [
    "df = df.rename(columns={'Values': 'points'})\n",
    "print(\"DataFrame 'df' with column 'points':\")\n",
    "print(df)\n",
    "\n"
   ]
  },
  {
   "cell_type": "markdown",
   "id": "548bbbd5",
   "metadata": {
    "id": "bBV0VfzzmYBP"
   },
   "source": [
    "Create another Series 'fruits', which contains random names of fruits from ['orange','mango','apple']. The series should contain 7 elements, randomly selected from ['orange','mango','apple']"
   ]
  },
  {
   "cell_type": "code",
   "execution_count": 24,
   "id": "38de14e1",
   "metadata": {
    "id": "baUmpsuhmYBP",
    "outputId": "8cbe922c-d257-4587-a7ff-93de58af7c0e"
   },
   "outputs": [
    {
     "name": "stdout",
     "output_type": "stream",
     "text": [
      "Series 'fruits' with random fruit names:\n",
      "0     apple\n",
      "1     apple\n",
      "2     apple\n",
      "3     apple\n",
      "4    orange\n",
      "5     apple\n",
      "6    orange\n",
      "dtype: object\n"
     ]
    }
   ],
   "source": [
    "#Create fruits array\n",
    "import random\n",
    "fruit_list = ['orange', 'mango', 'apple']\n",
    "fruits = pd.Series(random.choices(fruit_list, k=7))\n",
    "print(\"Series 'fruits' with random fruit names:\")\n",
    "print(fruits)\n",
    "\n",
    "\n",
    "\n"
   ]
  },
  {
   "cell_type": "code",
   "execution_count": 25,
   "id": "82dc80e8",
   "metadata": {
    "id": "QrbnjM8FmYBP",
    "outputId": "f7d318ae-c463-4a03-fb32-466034a5073b"
   },
   "outputs": [
    {
     "name": "stdout",
     "output_type": "stream",
     "text": [
      "Series 'fruits' from the fruits array:\n",
      "0    orange\n",
      "1     mango\n",
      "2     apple\n",
      "3    orange\n",
      "4     mango\n",
      "5     apple\n",
      "6    orange\n",
      "dtype: object\n"
     ]
    }
   ],
   "source": [
    "#Create series fruits out of fruits array\n",
    "\n",
    "fruits_array = ['orange', 'mango', 'apple', 'orange', 'mango', 'apple', 'orange']\n",
    "fruits = pd.Series(fruits_array)\n",
    "print(\"Series 'fruits' from the fruits array:\")\n",
    "print(fruits)\n",
    "\n",
    "\n"
   ]
  },
  {
   "cell_type": "markdown",
   "id": "ba833c98",
   "metadata": {
    "id": "20slMbq5mYBP"
   },
   "source": [
    "Change the index of fruits to the index of dataframe df"
   ]
  },
  {
   "cell_type": "code",
   "execution_count": 26,
   "id": "e6024626",
   "metadata": {
    "id": "1n4THBgkmYBQ",
    "outputId": "6ca845e1-a58b-4a40-d18d-8a59a62a7f8f"
   },
   "outputs": [
    {
     "name": "stdout",
     "output_type": "stream",
     "text": [
      "Series 'fruits' with the index matching DataFrame 'df':\n",
      "c    orange\n",
      "a     mango\n",
      "b     apple\n",
      "d    orange\n",
      "e     mango\n",
      "f     apple\n",
      "g    orange\n",
      "dtype: object\n"
     ]
    }
   ],
   "source": [
    "fruits.index = df.index\n",
    "print(\"Series 'fruits' with the index matching DataFrame 'df':\")\n",
    "print(fruits)\n",
    "\n",
    "\n",
    "\n"
   ]
  },
  {
   "cell_type": "markdown",
   "id": "80efc2a0",
   "metadata": {
    "id": "oPv8dJ_2mYBQ"
   },
   "source": [
    "Add this fruits series as a new column to the dataframe df with its column name as 'fruits'\n",
    "<br>print the head of the dataframe to verify"
   ]
  },
  {
   "cell_type": "code",
   "execution_count": 27,
   "id": "feb8512e",
   "metadata": {
    "id": "tit_GDscmYBQ",
    "outputId": "a2d0549f-2846-4331-c159-2f76af6fe9e2"
   },
   "outputs": [],
   "source": [
    "df['fruits'] = fruits"
   ]
  },
  {
   "cell_type": "code",
   "execution_count": 28,
   "id": "16761ac7",
   "metadata": {
    "id": "X3A6oKUXmYBQ",
    "outputId": "230256fe-9ef4-413a-913f-bd389ac35402"
   },
   "outputs": [
    {
     "name": "stdout",
     "output_type": "stream",
     "text": [
      "Head of the DataFrame 'df' with the new 'fruits' column:\n",
      "   points  fruits\n",
      "c     100  orange\n",
      "a     200   mango\n",
      "b     300   apple\n",
      "d     400  orange\n",
      "e     800   mango\n"
     ]
    }
   ],
   "source": [
    "print(\"Head of the DataFrame 'df' with the new 'fruits' column:\")\n",
    "print(df.head())"
   ]
  },
  {
   "cell_type": "markdown",
   "id": "ee48ef3f",
   "metadata": {
    "id": "ACsvenslmYBQ"
   },
   "source": [
    "## Pandas Concatenation"
   ]
  },
  {
   "cell_type": "markdown",
   "id": "54a0f078",
   "metadata": {
    "id": "cwgg82N0mYBQ"
   },
   "source": [
    "Create a dataframe  d1 where the cols are  ‘city’ : [‘Chandigarh’, ‘Delhi’, ‘Kanpur’, ‘Chennai’, ‘Manali’ ] and ‘Temperature’ : [15, 22, 20, 26,-2] "
   ]
  },
  {
   "cell_type": "code",
   "execution_count": 29,
   "id": "02709493",
   "metadata": {
    "id": "09tWwU18mYBR"
   },
   "outputs": [],
   "source": [
    "data = {\n",
    "    'city': ['Chandigarh', 'Delhi', 'Kanpur', 'Chennai', 'Manali'],\n",
    "    'Temperature': [15, 22, 20, 26, -2]\n",
    "}\n",
    "\n",
    "d1 = pd.DataFrame(data)"
   ]
  },
  {
   "cell_type": "markdown",
   "id": "f5684f18",
   "metadata": {
    "id": "XAquuUx_mYBR"
   },
   "source": [
    "Print(d1)"
   ]
  },
  {
   "cell_type": "code",
   "execution_count": 30,
   "id": "dd3d66e6",
   "metadata": {
    "id": "tEaf6dUVmYBR",
    "outputId": "02dd1795-381a-4d83-c8cc-37e15c066de8"
   },
   "outputs": [
    {
     "name": "stdout",
     "output_type": "stream",
     "text": [
      "DataFrame 'd1' with city and Temperature:\n",
      "         city  Temperature\n",
      "0  Chandigarh           15\n",
      "1       Delhi           22\n",
      "2      Kanpur           20\n",
      "3     Chennai           26\n",
      "4      Manali           -2\n"
     ]
    }
   ],
   "source": [
    "print(\"DataFrame 'd1' with city and Temperature:\")\n",
    "print(d1)\n",
    "\n",
    "\n"
   ]
  },
  {
   "cell_type": "markdown",
   "id": "a1c32d49",
   "metadata": {
    "id": "YmZ9u-4FmYBR"
   },
   "source": [
    "What is the shape of d1."
   ]
  },
  {
   "cell_type": "code",
   "execution_count": 31,
   "id": "380ea5d4",
   "metadata": {
    "id": "upPyfWR7mYBR",
    "outputId": "578b226c-493a-4e62-eb42-f29196452acf"
   },
   "outputs": [
    {
     "data": {
      "text/plain": [
       "(5, 2)"
      ]
     },
     "execution_count": 31,
     "metadata": {},
     "output_type": "execute_result"
    }
   ],
   "source": [
    "d1.shape"
   ]
  },
  {
   "cell_type": "markdown",
   "id": "525ef26b",
   "metadata": {
    "id": "JtBQ5SLtmYBS"
   },
   "source": [
    "Set city = d1['city']"
   ]
  },
  {
   "cell_type": "code",
   "execution_count": 32,
   "id": "b135b8e0",
   "metadata": {
    "id": "mzE78QzrmYBS"
   },
   "outputs": [],
   "source": [
    "city = d1['city']"
   ]
  },
  {
   "cell_type": "markdown",
   "id": "39661cfe",
   "metadata": {
    "id": "WubWnFIcmYBS"
   },
   "source": [
    "print city <br>\n",
    "What is the type of city."
   ]
  },
  {
   "cell_type": "code",
   "execution_count": 33,
   "id": "64b95f9e",
   "metadata": {
    "id": "6d4EjYTemYBS",
    "outputId": "013b3d5f-4f17-45ca-bdbc-7c4f5166df33"
   },
   "outputs": [
    {
     "name": "stdout",
     "output_type": "stream",
     "text": [
      "Variable 'city':\n",
      "0    Chandigarh\n",
      "1         Delhi\n",
      "2        Kanpur\n",
      "3       Chennai\n",
      "4        Manali\n",
      "Name: city, dtype: object\n"
     ]
    }
   ],
   "source": [
    "# Print the variable 'city'\n",
    "print(\"Variable 'city':\")\n",
    "print(city)"
   ]
  },
  {
   "cell_type": "markdown",
   "id": "151afa3d",
   "metadata": {
    "id": "uUdrLgg6mYBS"
   },
   "source": [
    "Create another datafeame 'd2' where the columns are <br>\n",
    "'city' - ['Bengalaru','Coimbatore','Srirangam','Pondicherry'] <br>\n",
    "'Temperature' - [24,35,36,39]"
   ]
  },
  {
   "cell_type": "code",
   "execution_count": 34,
   "id": "aed52596",
   "metadata": {
    "id": "CFBCGcvhmYBS",
    "outputId": "fc5089d3-dfb0-438a-b654-920f5d5dac5d"
   },
   "outputs": [
    {
     "name": "stdout",
     "output_type": "stream",
     "text": [
      "DataFrame 'd2' with city and Temperature:\n",
      "          city  Temperature\n",
      "0    Bengaluru           24\n",
      "1   Coimbatore           35\n",
      "2    Srirangam           36\n",
      "3  Pondicherry           39\n"
     ]
    }
   ],
   "source": [
    "# Creating the data for DataFrame 'd2'\n",
    "data_d2 = {\n",
    "    'city': ['Bengaluru', 'Coimbatore', 'Srirangam', 'Pondicherry'],\n",
    "    'Temperature': [24, 35, 36, 39]\n",
    "}\n",
    "\n",
    "# Creating the DataFrame 'd2'\n",
    "d2 = pd.DataFrame(data_d2)\n",
    "\n",
    "# Printing the DataFrame 'd2'\n",
    "print(\"DataFrame 'd2' with city and Temperature:\")\n",
    "print(d2)"
   ]
  },
  {
   "cell_type": "markdown",
   "id": "5804549e",
   "metadata": {
    "id": "HivVdLN5mYBT"
   },
   "source": [
    "print the shape of this dataframe"
   ]
  },
  {
   "cell_type": "code",
   "execution_count": 35,
   "id": "ba209808",
   "metadata": {
    "id": "9FFgtQJhmYBT",
    "outputId": "e2f88a69-e913-4b37-c118-8e6b3f9153c7"
   },
   "outputs": [
    {
     "data": {
      "text/plain": [
       "(4, 2)"
      ]
     },
     "execution_count": 35,
     "metadata": {},
     "output_type": "execute_result"
    }
   ],
   "source": [
    "d2.shape\n"
   ]
  },
  {
   "cell_type": "markdown",
   "id": "b085ed9d",
   "metadata": {
    "id": "UK38h5ktmYBT"
   },
   "source": [
    "merge the two dataframes together, save it in a new dataframe named 'd3'"
   ]
  },
  {
   "cell_type": "code",
   "execution_count": 36,
   "id": "5c105306",
   "metadata": {
    "id": "GMbOPfjCmYBT",
    "outputId": "66c2b828-c00a-4393-c49c-68057f447fb2"
   },
   "outputs": [
    {
     "name": "stdout",
     "output_type": "stream",
     "text": [
      "Merged DataFrame 'd3':\n",
      "          city  Temperature\n",
      "0   Chandigarh           15\n",
      "1        Delhi           22\n",
      "2       Kanpur           20\n",
      "3      Chennai           26\n",
      "4       Manali           -2\n",
      "5    Bengaluru           24\n",
      "6   Coimbatore           35\n",
      "7    Srirangam           36\n",
      "8  Pondicherry           39\n"
     ]
    }
   ],
   "source": [
    "# d3 = \n",
    "d3 = pd.concat([d1, d2], ignore_index=True)\n",
    "print(\"Merged DataFrame 'd3':\")\n",
    "print(d3)\n",
    "\n"
   ]
  },
  {
   "cell_type": "markdown",
   "id": "d54aeada",
   "metadata": {
    "id": "1dGlNGzjmYBT"
   },
   "source": [
    "Select the part of the dataframe such that it contains cities wherer temp is less then or equal to 20 <br>\n",
    "How many cities are there? "
   ]
  },
  {
   "cell_type": "code",
   "execution_count": 37,
   "id": "99e6b6da",
   "metadata": {
    "id": "1vtC2UkgmYBT",
    "outputId": "629b26f6-140b-4f57-c794-2202d80300b2"
   },
   "outputs": [
    {
     "name": "stdout",
     "output_type": "stream",
     "text": [
      "Cities where temperature is less than or equal to 20:\n",
      "         city  Temperature\n",
      "0  Chandigarh           15\n",
      "2      Kanpur           20\n",
      "4      Manali           -2\n",
      "Number of cities where temperature is less than or equal to 20: 3\n"
     ]
    }
   ],
   "source": [
    "selected_cities = d3[d3['Temperature'] <= 20]\n",
    "print(\"Cities where temperature is less than or equal to 20:\")\n",
    "print(selected_cities)\n",
    "num_cities = len(selected_cities)\n",
    "print(\"Number of cities where temperature is less than or equal to 20:\", num_cities)\n",
    "\n",
    "\n"
   ]
  },
  {
   "cell_type": "markdown",
   "id": "943e69ed",
   "metadata": {
    "id": "82QIQRQUmYBT"
   },
   "source": [
    "Select the part of the dataframe such that it contains the cities where tempearature greater than or equal to 35"
   ]
  },
  {
   "cell_type": "code",
   "execution_count": 38,
   "id": "fe887e38",
   "metadata": {
    "id": "Ea_hMtyGmYBU",
    "outputId": "540b5d81-ad25-4408-927f-0919887a8100"
   },
   "outputs": [
    {
     "name": "stdout",
     "output_type": "stream",
     "text": [
      "Cities where temperature is greater than or equal to 35:\n",
      "          city  Temperature\n",
      "6   Coimbatore           35\n",
      "7    Srirangam           36\n",
      "8  Pondicherry           39\n",
      "Number of cities where temperature is greater than or equal to 35: 3\n"
     ]
    }
   ],
   "source": [
    "selected_cities_high_temp = d3[d3['Temperature'] >= 35]\n",
    "print(\"Cities where temperature is greater than or equal to 35:\")\n",
    "print(selected_cities_high_temp)\n",
    "num_cities_high_temp = len(selected_cities_high_temp)\n",
    "print(\"Number of cities where temperature is greater than or equal to 35:\", num_cities_high_temp)\n",
    "\n",
    "\n",
    "\n"
   ]
  },
  {
   "cell_type": "markdown",
   "id": "e3cc3c51",
   "metadata": {
    "id": "BrYscXpWmYBU"
   },
   "source": [
    "## Applying functions to columns and creating new columns"
   ]
  },
  {
   "cell_type": "markdown",
   "id": "b5dca598",
   "metadata": {
    "id": "7Z4ioDxtmYBU"
   },
   "source": [
    "We need to create another column in d3, which contains  a boolean value for each city to indicate whether it's a union territory or not. \n",
    "- HINT: Chandigarh, Pondicherry and Delhi are only 3 union territories here. \n"
   ]
  },
  {
   "cell_type": "code",
   "execution_count": 54,
   "id": "44310309",
   "metadata": {
    "id": "FR2wgv6tmYBU"
   },
   "outputs": [],
   "source": [
    "def is_ut(city):\n",
    "    union_territories = ['Chandigarh', 'Pondicherry', 'Delhi']\n",
    "    if city in union_territories:\n",
    "        return True\n",
    "    else:\n",
    "        return False\n",
    "d3['is_ut'] = d3['city'].apply(is_ut)"
   ]
  },
  {
   "cell_type": "code",
   "execution_count": 55,
   "id": "56468381",
   "metadata": {
    "id": "0hd7QjComYBU",
    "outputId": "8a788eef-b933-48b0-d1f0-fdaa5b25d102"
   },
   "outputs": [
    {
     "name": "stdout",
     "output_type": "stream",
     "text": [
      "DataFrame 'd3' with is_ut column:\n",
      "          city  Temperature  is_ut\n",
      "0   Chandigarh           15   True\n",
      "1        Delhi           22   True\n",
      "2       Kanpur           20  False\n",
      "3      Chennai           26  False\n",
      "4       Manali           -2  False\n",
      "5    Bengaluru           24  False\n",
      "6   Coimbatore           35  False\n",
      "7    Srirangam           36  False\n",
      "8  Pondicherry           39   True\n"
     ]
    }
   ],
   "source": [
    "# print d3\n",
    "print(\"DataFrame 'd3' with is_ut column:\")\n",
    "print(d3)\n"
   ]
  },
  {
   "cell_type": "markdown",
   "id": "6689d89d",
   "metadata": {
    "id": "z88YETlMmYBU"
   },
   "source": [
    "The temperatures mentioned in ‘Temperature’ column are mentioned in Celsius, we need another column which contains the same in Fahrenheit. "
   ]
  },
  {
   "cell_type": "markdown",
   "id": "a2950eaa",
   "metadata": {
    "id": "ywp07m-xmYBU"
   },
   "source": [
    "HINT - \n",
    "- Define a function c_to_f which takes input temp in celsius and returns a value with temperature in Fahrenheit.\n",
    "- To check: c_to_f(10) should return 50. \n"
   ]
  },
  {
   "cell_type": "code",
   "execution_count": 56,
   "id": "eed4f4a5",
   "metadata": {
    "id": "V0x_0IAAmYBV"
   },
   "outputs": [
    {
     "name": "stdout",
     "output_type": "stream",
     "text": [
      "DataFrame 'd3' with Temperature_F column (in Fahrenheit):\n",
      "          city  Temperature  is_ut  Temperature_F\n",
      "0   Chandigarh           15   True           59.0\n",
      "1        Delhi           22   True           71.6\n",
      "2       Kanpur           20  False           68.0\n",
      "3      Chennai           26  False           78.8\n",
      "4       Manali           -2  False           28.4\n",
      "5    Bengaluru           24  False           75.2\n",
      "6   Coimbatore           35  False           95.0\n",
      "7    Srirangam           36  False           96.8\n",
      "8  Pondicherry           39   True          102.2\n"
     ]
    }
   ],
   "source": [
    "# write function here\n",
    "\n",
    "def c_to_f(celsius_temp):\n",
    "    fahrenheit_temp = (celsius_temp * 9/5) + 32\n",
    "    return fahrenheit_temp\n",
    "d3['Temperature_F'] = d3['Temperature'].apply(c_to_f)\n",
    "print(\"DataFrame 'd3' with Temperature_F column (in Fahrenheit):\")\n",
    "print(d3)"
   ]
  },
  {
   "cell_type": "code",
   "execution_count": 57,
   "id": "3cb7e3d1",
   "metadata": {
    "id": "Wc9meranmYBV",
    "outputId": "d83f0f45-482d-48a6-9226-2ea5ccac4e55"
   },
   "outputs": [
    {
     "name": "stdout",
     "output_type": "stream",
     "text": [
      "Temperature in Fahrenheit for 10 Celsius: 50.0\n"
     ]
    }
   ],
   "source": [
    "# check function c_to_f(10)\n",
    "def c_to_f(celsius_temp):\n",
    "    fahrenheit_temp = (celsius_temp * 9/5) + 32\n",
    "    return fahrenheit_temp\n",
    "\n",
    "print(\"Temperature in Fahrenheit for 10 Celsius:\", c_to_f(10))\n",
    "\n"
   ]
  },
  {
   "cell_type": "code",
   "execution_count": 58,
   "id": "f2961d60",
   "metadata": {
    "id": "H79GUcoImYBV",
    "outputId": "834607ff-0221-45b5-d5b0-64b13a3acdfa"
   },
   "outputs": [
    {
     "name": "stdout",
     "output_type": "stream",
     "text": [
      "DataFrame 'd3' with temp_fahrenheit column (in Fahrenheit):\n",
      "          city  Temperature  is_ut  Temperature_F  temp_fahrenheit\n",
      "0   Chandigarh           15   True           59.0             59.0\n",
      "1        Delhi           22   True           71.6             71.6\n",
      "2       Kanpur           20  False           68.0             68.0\n",
      "3      Chennai           26  False           78.8             78.8\n",
      "4       Manali           -2  False           28.4             28.4\n",
      "5    Bengaluru           24  False           75.2             75.2\n",
      "6   Coimbatore           35  False           95.0             95.0\n",
      "7    Srirangam           36  False           96.8             96.8\n",
      "8  Pondicherry           39   True          102.2            102.2\n"
     ]
    }
   ],
   "source": [
    "# apply function c_to_f to d3 to create a column 'temp_farenhiet'\n",
    "d3['temp_fahrenheit'] = d3['Temperature'].apply(c_to_f)\n",
    "print(\"DataFrame 'd3' with temp_fahrenheit column (in Fahrenheit):\")\n",
    "print(d3)\n",
    "\n",
    "\n"
   ]
  },
  {
   "cell_type": "markdown",
   "id": "bd6f2f40",
   "metadata": {
    "id": "Wj0p6JKHmYBV"
   },
   "source": [
    "## Indexing and selecting rows in DataFrame"
   ]
  },
  {
   "cell_type": "markdown",
   "id": "44c392da",
   "metadata": {
    "id": "fFitRJy2mYBV"
   },
   "source": [
    "Select subset of the dataframe d1 such that it contains the cities which are union territories."
   ]
  },
  {
   "cell_type": "code",
   "execution_count": 61,
   "id": "4ac145b2",
   "metadata": {
    "id": "Kg8OSVz0mYBV",
    "outputId": "686083a4-3b1f-4c7d-8fb8-d26aac318e52"
   },
   "outputs": [
    {
     "name": "stdout",
     "output_type": "stream",
     "text": [
      "Subset of DataFrame d1 with cities that are union territories:\n",
      "         city  Temperature\n",
      "0  Chandigarh           15\n",
      "1       Delhi           22\n"
     ]
    }
   ],
   "source": [
    "# List of union territories\n",
    "union_territories = ['Chandigarh', 'Pondicherry', 'Delhi']\n",
    "subset_d1_ut = d1[d1['city'].isin(union_territories)]\n",
    "print(\"Subset of DataFrame d1 with cities that are union territories:\")\n",
    "print(subset_d1_ut)"
   ]
  },
  {
   "cell_type": "markdown",
   "id": "c1782511",
   "metadata": {
    "id": "XnxQl4ZPmYBV"
   },
   "source": [
    "Select a subset of the dataframe d1 such that it contains the cities which only have temperature above 90 Farenhiet."
   ]
  },
  {
   "cell_type": "code",
   "execution_count": 62,
   "id": "afcbf9af",
   "metadata": {
    "id": "9o62VSn7mYBV",
    "outputId": "0cf73a78-2dfc-4be7-9bea-43fd0318b657"
   },
   "outputs": [
    {
     "name": "stdout",
     "output_type": "stream",
     "text": [
      "Subset of DataFrame d1 with cities having temperatures above 90 Fahrenheit:\n",
      "Empty DataFrame\n",
      "Columns: [city, Temperature]\n",
      "Index: []\n"
     ]
    }
   ],
   "source": [
    "subset_d1_above_90F = d1[d1['Temperature'] > 90]\n",
    "print(\"Subset of DataFrame d1 with cities having temperatures above 90 Fahrenheit:\")\n",
    "print(subset_d1_above_90F)"
   ]
  },
  {
   "cell_type": "markdown",
   "id": "e284fd59",
   "metadata": {
    "id": "IQq7K2EtmYBW"
   },
   "source": [
    "Select only the first three rows of the dataframe d1. \n"
   ]
  },
  {
   "cell_type": "code",
   "execution_count": 63,
   "id": "e2435249",
   "metadata": {
    "id": "PlmVOyAAmYBW",
    "outputId": "2c1d6ad5-1e08-4f31-d0c0-c1fbf8289d32"
   },
   "outputs": [
    {
     "name": "stdout",
     "output_type": "stream",
     "text": [
      "First three rows of DataFrame d1:\n",
      "         city  Temperature\n",
      "0  Chandigarh           15\n",
      "1       Delhi           22\n",
      "2      Kanpur           20\n"
     ]
    }
   ],
   "source": [
    "subset_d1_first_three_rows = d1.iloc[:3]\n",
    "print(\"First three rows of DataFrame d1:\")\n",
    "print(subset_d1_first_three_rows)\n"
   ]
  },
  {
   "cell_type": "markdown",
   "id": "093ff40b",
   "metadata": {
    "id": "MKNIbwW2mYBW"
   },
   "source": [
    "Select all the rows and last two columns in the dataframe.\n",
    "\n",
    "\n"
   ]
  },
  {
   "cell_type": "code",
   "execution_count": 64,
   "id": "b481aeec",
   "metadata": {
    "id": "WfQasVJImYBW",
    "outputId": "c157a66e-61b9-4a9a-e7f1-6ee392ccfe3a"
   },
   "outputs": [
    {
     "name": "stdout",
     "output_type": "stream",
     "text": [
      "All rows and last two columns of DataFrame d1:\n",
      "         city  Temperature\n",
      "0  Chandigarh           15\n",
      "1       Delhi           22\n",
      "2      Kanpur           20\n",
      "3     Chennai           26\n",
      "4      Manali           -2\n"
     ]
    }
   ],
   "source": [
    "subset_d1_last_two_columns = d1.iloc[:, -2:]\n",
    "print(\"All rows and last two columns of DataFrame d1:\")\n",
    "print(subset_d1_last_two_columns)\n"
   ]
  },
  {
   "cell_type": "markdown",
   "id": "23c968f1",
   "metadata": {
    "id": "LQ9xspkHmYBW"
   },
   "source": [
    "## Groupby"
   ]
  },
  {
   "cell_type": "code",
   "execution_count": 65,
   "id": "4619d83b",
   "metadata": {},
   "outputs": [
    {
     "name": "stdout",
     "output_type": "stream",
     "text": [
      "DataFrame created from dictionary:\n",
      "      Name  Age         City\n",
      "0    Alice   25     New York\n",
      "1      Bob   30  Los Angeles\n",
      "2  Charlie   35      Chicago\n",
      "3    David   40      Houston\n"
     ]
    }
   ],
   "source": [
    "# Create a dataframe using dictionary of your choice\n",
    "data = {\n",
    "    'Name': ['Alice', 'Bob', 'Charlie', 'David'],\n",
    "    'Age': [25, 30, 35, 40],\n",
    "    'City': ['New York', 'Los Angeles', 'Chicago', 'Houston']\n",
    "}\n",
    "\n",
    "# Create a DataFrame using the dictionary\n",
    "df = pd.DataFrame(data)\n",
    "\n",
    "# Print the DataFrame\n",
    "print(\"DataFrame created from dictionary:\")\n",
    "print(df)\n"
   ]
  },
  {
   "cell_type": "code",
   "execution_count": 66,
   "id": "4a81fedc",
   "metadata": {},
   "outputs": [
    {
     "name": "stdout",
     "output_type": "stream",
     "text": [
      "          Value\n",
      "Category       \n",
      "A            90\n",
      "B            60\n"
     ]
    }
   ],
   "source": [
    "# Use Groupby of single column with aggregate sum()\n",
    "# Sample DataFrame\n",
    "data = {\n",
    "    'Category': ['A', 'B', 'A', 'B', 'A'],\n",
    "    'Value': [10, 20, 30, 40, 50]\n",
    "}\n",
    "\n",
    "df = pd.DataFrame(data)\n",
    "result = df.groupby('Category').aggregate({'Value': 'sum'})\n",
    "print(result)\n",
    "\n"
   ]
  },
  {
   "cell_type": "code",
   "execution_count": 67,
   "id": "cd8dc470",
   "metadata": {},
   "outputs": [
    {
     "name": "stdout",
     "output_type": "stream",
     "text": [
      "          Value\n",
      "Category       \n",
      "A             3\n",
      "B             2\n"
     ]
    }
   ],
   "source": [
    "# Use Groupby of single column with aggregate count()\n",
    "\n",
    "result = df.groupby('Category').aggregate({'Value': 'count'})\n",
    "print(result)\n",
    "\n"
   ]
  },
  {
   "cell_type": "code",
   "execution_count": 68,
   "id": "e0bc9676",
   "metadata": {},
   "outputs": [
    {
     "name": "stdout",
     "output_type": "stream",
     "text": [
      "         Value    \n",
      "           min max\n",
      "Category          \n",
      "A           10  50\n",
      "B           20  40\n"
     ]
    }
   ],
   "source": [
    "# Use Groupby of single column with aggregate min() and max()\n",
    "result = df.groupby('Category').aggregate({'Value': ['min', 'max']})\n",
    "print(result)"
   ]
  },
  {
   "cell_type": "code",
   "execution_count": 69,
   "id": "7a7f6a78",
   "metadata": {},
   "outputs": [
    {
     "name": "stdout",
     "output_type": "stream",
     "text": [
      "                      Value\n",
      "Category Subcategory       \n",
      "A        X             30.0\n",
      "B        Y             30.0\n"
     ]
    }
   ],
   "source": [
    "# Use Groupby of any 2 columns with aggregate mean()\n",
    "data = {\n",
    "    'Category': ['A', 'B', 'A', 'B', 'A'],\n",
    "    'Subcategory': ['X', 'Y', 'X', 'Y', 'X'],\n",
    "    'Value': [10, 20, 30, 40, 50]\n",
    "}\n",
    "\n",
    "df = pd.DataFrame(data)\n",
    "result = df.groupby(['Category', 'Subcategory']).aggregate({'Value': 'mean'})\n",
    "\n",
    "# Print the result\n",
    "print(result)\n"
   ]
  },
  {
   "cell_type": "code",
   "execution_count": 70,
   "id": "598f69d7",
   "metadata": {},
   "outputs": [
    {
     "name": "stdout",
     "output_type": "stream",
     "text": [
      "                     Value    \n",
      "                       min max\n",
      "Category Subcategory          \n",
      "A        X              10  50\n",
      "B        Y              20  40\n"
     ]
    }
   ],
   "source": [
    "# Use Groupby of any 2 columns with aggregate min() and max()\n",
    "data = {\n",
    "    'Category': ['A', 'B', 'A', 'B', 'A'],\n",
    "    'Subcategory': ['X', 'Y', 'X', 'Y', 'X'],\n",
    "    'Value': [10, 20, 30, 40, 50]\n",
    "}\n",
    "\n",
    "df = pd.DataFrame(data)\n",
    "result = df.groupby(['Category', 'Subcategory']).aggregate({'Value': ['min', 'max']})\n",
    "\n",
    "print(result)\n",
    "\n"
   ]
  },
  {
   "cell_type": "markdown",
   "id": "beb02760",
   "metadata": {
    "id": "goEgED0xmYBY"
   },
   "source": [
    "## Data Range"
   ]
  },
  {
   "cell_type": "markdown",
   "id": "ca989468",
   "metadata": {
    "id": "jJOxVdLemYBY"
   },
   "source": [
    "Create a pandas daterange where starting date is 1st of January,2020 and end date is 1st of April 2021, store it in a new variable named 'a'"
   ]
  },
  {
   "cell_type": "code",
   "execution_count": 71,
   "id": "bf616731",
   "metadata": {
    "id": "Nvx8f5GTmYBZ"
   },
   "outputs": [],
   "source": [
    "a = pd.date_range(start='2020-01-01', end='2021-04-01')"
   ]
  },
  {
   "cell_type": "markdown",
   "id": "1d65e9c8",
   "metadata": {
    "id": "ybvAMVSzmYBZ"
   },
   "source": [
    "print a"
   ]
  },
  {
   "cell_type": "code",
   "execution_count": 72,
   "id": "aa370e3e",
   "metadata": {
    "id": "TOe-Alj8mYBZ",
    "outputId": "a0e830f7-6826-4082-98c4-cc02bcfe43f3"
   },
   "outputs": [
    {
     "name": "stdout",
     "output_type": "stream",
     "text": [
      "DatetimeIndex(['2020-01-01', '2020-01-02', '2020-01-03', '2020-01-04',\n",
      "               '2020-01-05', '2020-01-06', '2020-01-07', '2020-01-08',\n",
      "               '2020-01-09', '2020-01-10',\n",
      "               ...\n",
      "               '2021-03-23', '2021-03-24', '2021-03-25', '2021-03-26',\n",
      "               '2021-03-27', '2021-03-28', '2021-03-29', '2021-03-30',\n",
      "               '2021-03-31', '2021-04-01'],\n",
      "              dtype='datetime64[ns]', length=457, freq='D')\n"
     ]
    }
   ],
   "source": [
    "print(a)"
   ]
  },
  {
   "cell_type": "markdown",
   "id": "fd71f918",
   "metadata": {
    "id": "vI1gctGmmYBZ"
   },
   "source": [
    "What is the len of a?"
   ]
  },
  {
   "cell_type": "code",
   "execution_count": 73,
   "id": "fada1b06",
   "metadata": {
    "id": "D66uR7vDmYBZ",
    "outputId": "c3fcbc58-7b57-4cf8-bc44-85303b525c6e"
   },
   "outputs": [
    {
     "name": "stdout",
     "output_type": "stream",
     "text": [
      "Length of 'a': 457\n"
     ]
    }
   ],
   "source": [
    "length_of_a = len(a)\n",
    "print(\"Length of 'a':\", length_of_a)"
   ]
  },
  {
   "cell_type": "markdown",
   "id": "f4edd3bf",
   "metadata": {
    "id": "MQvcL-SImYBZ"
   },
   "source": [
    "What is the type of a?"
   ]
  },
  {
   "cell_type": "code",
   "execution_count": 74,
   "id": "3a233072",
   "metadata": {
    "id": "cnb8Z0CXmYBZ",
    "outputId": "a72dc4cd-5225-4098-8084-900f69caeb81"
   },
   "outputs": [
    {
     "name": "stdout",
     "output_type": "stream",
     "text": [
      "Type of 'a': <class 'pandas.core.indexes.datetimes.DatetimeIndex'>\n"
     ]
    }
   ],
   "source": [
    "type_of_a = type(a)\n",
    "print(\"Type of 'a':\", type_of_a)"
   ]
  }
 ],
 "metadata": {
  "colab": {
   "collapsed_sections": [],
   "provenance": []
  },
  "kernelspec": {
   "display_name": "Python 3 (ipykernel)",
   "language": "python",
   "name": "python3"
  },
  "language_info": {
   "codemirror_mode": {
    "name": "ipython",
    "version": 3
   },
   "file_extension": ".py",
   "mimetype": "text/x-python",
   "name": "python",
   "nbconvert_exporter": "python",
   "pygments_lexer": "ipython3",
   "version": "3.11.5"
  }
 },
 "nbformat": 4,
 "nbformat_minor": 5
}
